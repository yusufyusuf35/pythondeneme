{
 "cells": [
  {
   "cell_type": "code",
   "execution_count": 5,
   "id": "7f067b11",
   "metadata": {},
   "outputs": [
    {
     "name": "stdout",
     "output_type": "stream",
     "text": [
      "namıs\n",
      "['namıs']\n"
     ]
    }
   ],
   "source": [
    "n = 'kfsdfs'\n",
    "print(n)\n",
    "print(n.split(\" \"))"
   ]
  },
  {
   "cell_type": "code",
   "execution_count": 7,
   "id": "beb71d92",
   "metadata": {},
   "outputs": [
    {
     "name": "stdout",
     "output_type": "stream",
     "text": [
      "['ab', 45, 'yusuf', 'memet', 'yusuf']\n",
      "['ab', 45, 'yusuf', 'memet', 'yusuf', 'namık']\n",
      "['ab', 45, 'yusuf', 'memet', 'yusuf', 'namık', 'niyazi', 'nusha']\n",
      "['ab', 45, 'yusuf', 'memet', 'yusuf', 'niyazi', 'nusha']\n",
      "2\n",
      "2\n",
      "None\n",
      "['ab', 45, 'yusuf', 'yusuf', 'memet', 'yusuf', 'niyazi', 'nusha']\n",
      "['ab', 'yusuf', 'yusuf', 'memet', 'yusuf', 'niyazi', 'nusha']\n",
      "['ab', 'memet', 'niyazi', 'nusha', 'yusuf', 'yusuf', 'yusuf']\n",
      "['yusuf', 'yusuf', 'yusuf', 'nusha', 'niyazi', 'memet', 'ab']\n"
     ]
    },
    {
     "data": {
      "text/plain": [
       "['yusuf', 'yusuf', 'yusuf', 'nusha', 'niyazi', 'namet', 'memet', 'ab', 3]"
      ]
     },
     "execution_count": 7,
     "metadata": {},
     "output_type": "execute_result"
    }
   ],
   "source": [
    "liste = ['ab',45,'yusuf','memet','yusuf']\n",
    "print(liste)\n",
    "liste.append('namık')\n",
    "print(liste)\n",
    "liste1 = ['niyazi','nusha']\n",
    "liste.extend(liste1)\n",
    "print(liste)\n",
    "liste.pop(5)\n",
    "print(liste)\n",
    "print(liste.count('yusuf'))\n",
    "print(liste.index('yusuf'))\n",
    "print(liste.insert(3,'yusuf'))\n",
    "print(liste)\n",
    "liste.remove(45)\n",
    "print(liste)\n",
    "liste.sort()\n",
    "print(liste)\n",
    "liste.reverse()\n",
    "print(liste)\n",
    "liste.append(3)\n",
    "liste.insert(5,'namet')\n",
    "liste"
   ]
  },
  {
   "cell_type": "code",
   "execution_count": null,
   "id": "553a916d",
   "metadata": {},
   "outputs": [],
   "source": [
    "me = 'fsdf'\n",
    "A = 23"
   ]
  },
  {
   "cell_type": "code",
   "execution_count": 1,
   "id": "3924f4b5",
   "metadata": {},
   "outputs": [
    {
     "data": {
      "text/plain": [
       "(1, 'yusuf')"
      ]
     },
     "execution_count": 1,
     "metadata": {},
     "output_type": "execute_result"
    }
   ],
   "source": [
    "f = (1,'yusuf')\n",
    "f"
   ]
  },
  {
   "cell_type": "code",
   "execution_count": 4,
   "id": "cf9cc82c",
   "metadata": {},
   "outputs": [
    {
     "name": "stdout",
     "output_type": "stream",
     "text": [
      "(1,)\n"
     ]
    }
   ],
   "source": [
    "f = (1,)\n",
    "print(f)"
   ]
  },
  {
   "cell_type": "code",
   "execution_count": 8,
   "id": "84bde8b8",
   "metadata": {},
   "outputs": [
    {
     "data": {
      "text/plain": [
       "([1, 2, 'Niyazi'], 4, 'Yusuf')"
      ]
     },
     "execution_count": 8,
     "metadata": {},
     "output_type": "execute_result"
    }
   ],
   "source": [
    "f = ([1,2,'Niyazi'],4,'Yusuf')\n",
    "f"
   ]
  },
  {
   "cell_type": "code",
   "execution_count": 13,
   "id": "64db14b5",
   "metadata": {},
   "outputs": [
    {
     "data": {
      "text/plain": [
       "'Niyazi'"
      ]
     },
     "execution_count": 13,
     "metadata": {},
     "output_type": "execute_result"
    }
   ],
   "source": [
    "fatıma[0][2]"
   ]
  },
  {
   "cell_type": "code",
   "execution_count": 20,
   "id": "36afc74f",
   "metadata": {},
   "outputs": [
    {
     "ename": "AttributeError",
     "evalue": "'dict' object has no attribute 'append'",
     "output_type": "error",
     "traceback": [
      "\u001b[1;31m---------------------------------------------------------------------------\u001b[0m",
      "\u001b[1;31mAttributeError\u001b[0m                            Traceback (most recent call last)",
      "Cell \u001b[1;32mIn[20], line 3\u001b[0m\n\u001b[0;32m      1\u001b[0m memed \u001b[38;5;241m=\u001b[39m {\u001b[38;5;124m'\u001b[39m\u001b[38;5;124mnana\u001b[39m\u001b[38;5;124m'\u001b[39m : \u001b[38;5;124m'\u001b[39m\u001b[38;5;124mbismillah\u001b[39m\u001b[38;5;124m'\u001b[39m}\n\u001b[0;32m      2\u001b[0m memed[\u001b[38;5;124m'\u001b[39m\u001b[38;5;124mnana\u001b[39m\u001b[38;5;124m'\u001b[39m]\n\u001b[1;32m----> 3\u001b[0m memed\u001b[38;5;241m.\u001b[39mappend({\u001b[38;5;124m'\u001b[39m\u001b[38;5;124mkemal\u001b[39m\u001b[38;5;124m'\u001b[39m:\u001b[38;5;124m'\u001b[39m\u001b[38;5;124mziya\u001b[39m\u001b[38;5;124m'\u001b[39m})\n",
      "\u001b[1;31mAttributeError\u001b[0m: 'dict' object has no attribute 'append'"
     ]
    }
   ],
   "source": [
    "memed = {'n' : 'bis'}\n",
    "memed['n']\n",
    "memed.append({'kemal':'ziya'})"
   ]
  },
  {
   "cell_type": "code",
   "execution_count": 27,
   "id": "50bfaaf5",
   "metadata": {},
   "outputs": [
    {
     "name": "stdout",
     "output_type": "stream",
     "text": [
      "{'nana': 'bismillah'} {'nana': 'bismillah'}\n"
     ]
    },
    {
     "data": {
      "text/plain": [
       "dict_items([('nana', 'bismillah')])"
      ]
     },
     "execution_count": 27,
     "metadata": {},
     "output_type": "execute_result"
    }
   ],
   "source": [
    "memed.keys()\n",
    "memed.values()\n",
    "memed.items()\n",
    "a = memed\n",
    "print(a,memed)\n",
    "memed.items()"
   ]
  },
  {
   "cell_type": "code",
   "execution_count": 29,
   "id": "00a19353",
   "metadata": {},
   "outputs": [
    {
     "data": {
      "text/plain": [
       "{'nana': 'bismillah', 'bism': 'bism'}"
      ]
     },
     "execution_count": 29,
     "metadata": {},
     "output_type": "execute_result"
    }
   ],
   "source": [
    "memed['bism']='bism'\n",
    "memed"
   ]
  },
  {
   "cell_type": "code",
   "execution_count": null,
   "id": "9ba54bd9",
   "metadata": {},
   "outputs": [],
   "source": [
    "name = input()\n",
    "name"
   ]
  },
  {
   "cell_type": "code",
   "execution_count": 39,
   "id": "a3be0caf",
   "metadata": {},
   "outputs": [
    {
     "name": "stdout",
     "output_type": "stream",
     "text": [
      "5\n",
      "6\n",
      "5 ve 6 nın doplammı 11 \n"
     ]
    }
   ],
   "source": [
    "\n",
    "x:int=input()\n",
    "y:int=input()\n",
    "print('{} ve {} nın doplammı {} '.format(int(x),int(y),int(x)+int(y)))"
   ]
  },
  {
   "cell_type": "code",
   "execution_count": 40,
   "id": "c0382b5c",
   "metadata": {},
   "outputs": [
    {
     "name": "stdout",
     "output_type": "stream",
     "text": [
      "5\n",
      "5\n",
      "5 ve 5 nın doplammı 55 \n"
     ]
    }
   ],
   "source": [
    "\n",
    "x:int=input()\n",
    "y:int=input()\n",
    "print('{} ve {} nın doplammı {} '.format(x,y,x+y))"
   ]
  },
  {
   "cell_type": "code",
   "execution_count": null,
   "id": "84224957",
   "metadata": {},
   "outputs": [],
   "source": []
  },
  {
   "cell_type": "code",
   "execution_count": null,
   "id": "324fe476",
   "metadata": {},
   "outputs": [],
   "source": [
    "y=input()\n",
    "y"
   ]
  },
  {
   "cell_type": "code",
   "execution_count": 1,
   "id": "d225955a",
   "metadata": {},
   "outputs": [
    {
     "name": "stdout",
     "output_type": "stream",
     "text": [
      "5\n",
      "12\n",
      "merhaba 5 artı 12 : 17 yapar merhaba\n",
      "nıaaaah\n"
     ]
    }
   ],
   "source": [
    "def meraba( a : int , b : int):\n",
    "    c = a\n",
    "    d = b\n",
    "    print('merhaba {} artı {} : {} yapar merhaba'.format(int(c),int(d),int(c)+int(d)) )\n",
    "    return int(c) + int(d)\n",
    "\n",
    "x = input()\n",
    "y = input()\n",
    "if 11 > meraba(x , y):\n",
    "    print('nabeeeer')\n",
    "else : \n",
    "    print('nıaaaah')\n"
   ]
  },
  {
   "cell_type": "code",
   "execution_count": 51,
   "id": "715960fa",
   "metadata": {},
   "outputs": [
    {
     "name": "stdout",
     "output_type": "stream",
     "text": [
      "year\n"
     ]
    }
   ],
   "source": [
    "if 'n' in 'nizo':\n",
    "    print('year')\n",
    "else:\n",
    "    print('no mesuis')"
   ]
  },
  {
   "cell_type": "code",
   "execution_count": 58,
   "id": "35fef875",
   "metadata": {},
   "outputs": [
    {
     "name": "stdout",
     "output_type": "stream",
     "text": [
      "0\n",
      "1\n",
      "2\n",
      "3\n",
      "4\n",
      "5\n"
     ]
    }
   ],
   "source": [
    "for i in range(6):\n",
    "    print(i)\n",
    "    "
   ]
  },
  {
   "cell_type": "code",
   "execution_count": null,
   "id": "3656c256",
   "metadata": {},
   "outputs": [],
   "source": [
    "np.array([])"
   ]
  }
 ],
 "metadata": {
  "kernelspec": {
   "display_name": "Python 3 (ipykernel)",
   "language": "python",
   "name": "python3"
  },
  "language_info": {
   "codemirror_mode": {
    "name": "ipython",
    "version": 3
   },
   "file_extension": ".py",
   "mimetype": "text/x-python",
   "name": "python",
   "nbconvert_exporter": "python",
   "pygments_lexer": "ipython3",
   "version": "3.11.5"
  }
 },
 "nbformat": 4,
 "nbformat_minor": 5
}
